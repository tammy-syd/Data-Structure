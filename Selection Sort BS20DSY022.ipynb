{
 "cells": [
  {
   "cell_type": "code",
   "execution_count": 26,
   "metadata": {},
   "outputs": [
    {
     "name": "stdout",
     "output_type": "stream",
     "text": [
      "Before sorting:  [10, 4, 43, 5, 57, 91, 45, 9]\n",
      "After sorting:  [4, 5, 9, 10, 43, 45, 57, 91]\n"
     ]
    }
   ],
   "source": [
    "# TC : O(n^2)\n",
    "# SC: O(1)\n",
    "\n",
    "def selection_sort(A):\n",
    "    for i in range(len(A)):\n",
    "        #print(i)\n",
    "     \n",
    "        # Find the minimum element in the remaining unsorted array\n",
    "         \n",
    "        min_index = i\n",
    "        for j in range(i+1, len(A)):\n",
    "            if A[min_index] > A[j]:\n",
    "                min_index = j\n",
    "\n",
    "        # Swap the found minimum element with the ith element \n",
    "             \n",
    "        A[i], A[min_index] = A[min_index], A[i]\n",
    " \n",
    "A = [10, 4, 43, 5, 57, 91, 45, 9]\n",
    " \n",
    "print(\"Before sorting: \", A)\n",
    "selection_sort(A)\n",
    "print(\"After sorting: \", A)"
   ]
  }
 ],
 "metadata": {
  "kernelspec": {
   "display_name": "Python 3",
   "language": "python",
   "name": "python3"
  },
  "language_info": {
   "codemirror_mode": {
    "name": "ipython",
    "version": 3
   },
   "file_extension": ".py",
   "mimetype": "text/x-python",
   "name": "python",
   "nbconvert_exporter": "python",
   "pygments_lexer": "ipython3",
   "version": "3.8.3"
  }
 },
 "nbformat": 4,
 "nbformat_minor": 4
}
