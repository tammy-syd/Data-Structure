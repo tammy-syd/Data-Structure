{
 "cells": [
  {
   "cell_type": "code",
   "execution_count": 1,
   "metadata": {},
   "outputs": [
    {
     "name": "stdout",
     "output_type": "stream",
     "text": [
      "Before sorting : [64, 34, 25, 12, 22, 11, 90]\n",
      "After sorting: [11, 12, 22, 25, 34, 64, 90]\n"
     ]
    }
   ],
   "source": [
    "# TC: O(n^2)\n",
    "# SC: O(1)\n",
    "\n",
    "def bubbleSort(arr):\n",
    "    \n",
    "\n",
    "    # Traverse through all array elements\n",
    "    for i in range(len(arr)-1):\n",
    "   \n",
    "        # Last i elements are sorted\n",
    "        for j in range(0, len(arr)-i-1):\n",
    "\n",
    "            # traverse the array from 0 to len(arr)-i-1\n",
    "            # Swap if the element found is greater  than the next element\n",
    "           \n",
    "            if arr[j] > arr[j + 1] :\n",
    "                arr[j], arr[j + 1] = arr[j + 1], arr[j]\n",
    "\n",
    "\n",
    "arr = [64, 34, 25, 12, 22, 11, 90]\n",
    "print('Before sorting :',arr)\n",
    "\n",
    "bubbleSort(arr)\n",
    "print('After sorting:', arr)\n",
    "\n",
    "\n"
   ]
  },
  {
   "cell_type": "code",
   "execution_count": null,
   "metadata": {},
   "outputs": [],
   "source": []
  }
 ],
 "metadata": {
  "kernelspec": {
   "display_name": "Python 3",
   "language": "python",
   "name": "python3"
  },
  "language_info": {
   "codemirror_mode": {
    "name": "ipython",
    "version": 3
   },
   "file_extension": ".py",
   "mimetype": "text/x-python",
   "name": "python",
   "nbconvert_exporter": "python",
   "pygments_lexer": "ipython3",
   "version": "3.8.3"
  }
 },
 "nbformat": 4,
 "nbformat_minor": 4
}
