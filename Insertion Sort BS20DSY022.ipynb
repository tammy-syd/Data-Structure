{
 "cells": [
  {
   "cell_type": "code",
   "execution_count": 4,
   "metadata": {},
   "outputs": [
    {
     "name": "stdout",
     "output_type": "stream",
     "text": [
      "Before sorting:  [10, 4, 43, 5, 57, 91, 45, 9, 7]\n",
      "After sorting:  [4, 5, 7, 9, 10, 43, 45, 57, 91]\n"
     ]
    }
   ],
   "source": [
    "# TC : O(n^2)\n",
    "# SC : O(1)\n",
    "\n",
    "def insertion_sort(A):\n",
    "    # Traverse from 1 to len(A)\n",
    "    for i in range(1, len(A)):\n",
    "        temp = A[i]\n",
    "        k = i\n",
    "        # Move elements greater than temp 1 position ahead of their current position\n",
    "        \n",
    "        while k > 0 and temp < A[k-1]:\n",
    "            A[k] = A[k-1]\n",
    "            k -= 1\n",
    "        \n",
    "        A[k] = temp\n",
    " \n",
    "A = [10, 4, 43, 5, 57, 91, 45, 9, 7]\n",
    " \n",
    "print(\"Before sorting: \", A)\n",
    "insertion_sort(A)\n",
    "print(\"After sorting: \", A)"
   ]
  },
  {
   "cell_type": "code",
   "execution_count": null,
   "metadata": {},
   "outputs": [],
   "source": []
  }
 ],
 "metadata": {
  "kernelspec": {
   "display_name": "Python 3",
   "language": "python",
   "name": "python3"
  },
  "language_info": {
   "codemirror_mode": {
    "name": "ipython",
    "version": 3
   },
   "file_extension": ".py",
   "mimetype": "text/x-python",
   "name": "python",
   "nbconvert_exporter": "python",
   "pygments_lexer": "ipython3",
   "version": "3.8.3"
  }
 },
 "nbformat": 4,
 "nbformat_minor": 4
}
