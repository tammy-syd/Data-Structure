{
 "cells": [
  {
   "cell_type": "markdown",
   "metadata": {},
   "source": [
    "# Linear Probing"
   ]
  },
  {
   "cell_type": "code",
   "execution_count": 60,
   "metadata": {},
   "outputs": [],
   "source": [
    "class HashTable(object):\n",
    "    MIN_BUCKETS = 7\n",
    "    def __init__(self, capacity=MIN_BUCKETS):\n",
    "        self.size = 0\n",
    "        self.buckets = [[] for element in range(capacity)]\n",
    "        \n",
    "        \n",
    "    def hash_function(self, key):\n",
    "        return key % len(self.buckets)\n",
    "    \n",
    "    \n",
    "    def put(self, key, value):\n",
    "        index = self.LinearProb(key)\n",
    "        self.buckets[index].append({\"key\": key, \"value\": value})\n",
    "        self.size += 1\n",
    "    \n",
    "    \n",
    "    def LinearProb(self, key):\n",
    "        hashIndex = self.hash_function(key)\n",
    "        \n",
    "        if (self.buckets[hashIndex] == []):\n",
    "            return hashIndex\n",
    "        else:\n",
    "            while (self.buckets[hashIndex] != []):\n",
    "                hashIndex = self.hash_function(hashIndex+1)\n",
    "            return hashIndex\n",
    "        \n",
    "        \n",
    "    def get(self, key):\n",
    "        hashIndex = self.hash_function(key)\n",
    "        for element in self.buckets[hashIndex]:\n",
    "            if (key == element[\"key\"]):\n",
    "                return element[\"value\"] \n",
    "\n",
    "            \n",
    "    def __getitem__(self, key):\n",
    "        return self.get(key)\n",
    "    \n",
    "    \n",
    "    def __setitem__(self, key, value):\n",
    "        return self.put(key, value)\n",
    "    \n",
    "    \n",
    "    def print_out(self):\n",
    "        print(\"index \\t value\")\n",
    "        for i in range(len(self.buckets)) :\n",
    "            if (self.buckets[i] == []):\n",
    "                print(i, \"\\t\", \"None\")\n",
    "            else:\n",
    "                print(i, \"\\t\", self.buckets[i][0][\"key\"], \":\", self.buckets[i][0][\"value\"])\n",
    "            \n",
    "    \n",
    "ht = HashTable()"
   ]
  },
  {
   "cell_type": "code",
   "execution_count": 61,
   "metadata": {},
   "outputs": [
    {
     "name": "stdout",
     "output_type": "stream",
     "text": [
      "index \t value\n",
      "0 \t None\n",
      "1 \t None\n",
      "2 \t 100 : abc\n",
      "3 \t None\n",
      "4 \t None\n",
      "5 \t None\n",
      "6 \t None\n"
     ]
    }
   ],
   "source": [
    "ht[100] = \"abc\"\n",
    "ht.print_out()"
   ]
  },
  {
   "cell_type": "code",
   "execution_count": 62,
   "metadata": {},
   "outputs": [
    {
     "name": "stdout",
     "output_type": "stream",
     "text": [
      "index \t value\n",
      "0 \t None\n",
      "1 \t None\n",
      "2 \t 100 : abc\n",
      "3 \t 30 : xyz\n",
      "4 \t None\n",
      "5 \t None\n",
      "6 \t None\n"
     ]
    }
   ],
   "source": [
    "ht[30] = \"xyz\"\n",
    "ht.print_out()"
   ]
  },
  {
   "cell_type": "code",
   "execution_count": 63,
   "metadata": {},
   "outputs": [
    {
     "name": "stdout",
     "output_type": "stream",
     "text": [
      "index \t value\n",
      "0 \t 76 : Vince\n",
      "1 \t None\n",
      "2 \t 100 : abc\n",
      "3 \t 30 : xyz\n",
      "4 \t None\n",
      "5 \t None\n",
      "6 \t 6 : Vu\n"
     ]
    }
   ],
   "source": [
    "ht[6] = \"Vu\"\n",
    "ht[76] = \"Vince\"\n",
    "ht.print_out()"
   ]
  },
  {
   "cell_type": "code",
   "execution_count": null,
   "metadata": {},
   "outputs": [],
   "source": []
  },
  {
   "cell_type": "markdown",
   "metadata": {},
   "source": [
    "# Quadratic Probling"
   ]
  },
  {
   "cell_type": "code",
   "execution_count": 64,
   "metadata": {},
   "outputs": [],
   "source": [
    "class HashTable(object):\n",
    "    MIN_BUCKETS = 7\n",
    "    def __init__(self, capacity=MIN_BUCKETS):\n",
    "        self.size = 0\n",
    "        self.buckets = [[] for element in range(capacity)]\n",
    "        \n",
    "        \n",
    "    def hash_function(self, key):\n",
    "        return key % len(self.buckets)\n",
    "    \n",
    "    \n",
    "    def put(self, key, value):\n",
    "        index = self.QuadraticProb(key)\n",
    "        self.buckets[index].append({\"key\": key, \"value\": value})\n",
    "        self.size += 1\n",
    "    \n",
    "    \n",
    "    def QuadraticProb(self, key):\n",
    "        hashIndex = self.hash_function(key)\n",
    "        \n",
    "        if (self.buckets[hashIndex] == []):\n",
    "            return hashIndex\n",
    "        else:\n",
    "            i = 0\n",
    "            tmp = hashIndex\n",
    "            while (self.buckets[hashIndex] != []):\n",
    "                i += 1\n",
    "                hashIndex = self.hash_function(tmp + i*i)\n",
    "                \n",
    "            return hashIndex\n",
    "        \n",
    "        \n",
    "    def get(self, key):\n",
    "        hashIndex = self.hash_function(key)\n",
    "        for element in self.buckets[hashIndex]:\n",
    "            if (key == element[\"key\"]):\n",
    "                return element[\"value\"] \n",
    "\n",
    "            \n",
    "    def __getitem__(self, key):\n",
    "        return self.get(key)\n",
    "    \n",
    "    \n",
    "    def __setitem__(self, key, value):\n",
    "        return self.put(key, value)\n",
    "    \n",
    "    \n",
    "    def print_out(self):\n",
    "        print(\"index \\t value\")\n",
    "        for i in range(len(self.buckets)) :\n",
    "            if (self.buckets[i] == []):\n",
    "                print(i, \"\\t\", \"None\")\n",
    "            else:\n",
    "                print(i, \"\\t\", self.buckets[i][0][\"key\"], \":\", self.buckets[i][0][\"value\"])\n",
    "            \n",
    "    \n",
    "ht = HashTable()"
   ]
  },
  {
   "cell_type": "code",
   "execution_count": 65,
   "metadata": {},
   "outputs": [
    {
     "name": "stdout",
     "output_type": "stream",
     "text": [
      "index \t value\n",
      "0 \t None\n",
      "1 \t None\n",
      "2 \t 100 : abc\n",
      "3 \t 30 : xyz\n",
      "4 \t 37 : Vince\n",
      "5 \t None\n",
      "6 \t 72 : Vu\n"
     ]
    }
   ],
   "source": [
    "ht[100] = \"abc\"\n",
    "ht[30] = \"xyz\"\n",
    "ht[72] = \"Vu\"\n",
    "ht[37] = \"Vince\"\n",
    "ht.print_out()"
   ]
  },
  {
   "cell_type": "code",
   "execution_count": null,
   "metadata": {},
   "outputs": [],
   "source": []
  },
  {
   "cell_type": "markdown",
   "metadata": {},
   "source": [
    "# Double Hashing"
   ]
  },
  {
   "cell_type": "code",
   "execution_count": 66,
   "metadata": {},
   "outputs": [],
   "source": [
    "from math import *"
   ]
  },
  {
   "cell_type": "code",
   "execution_count": 67,
   "metadata": {},
   "outputs": [],
   "source": [
    "class HashTable(object):\n",
    "    MIN_BUCKETS = 11\n",
    "    def __init__(self, capacity=MIN_BUCKETS):\n",
    "        self.size = 0\n",
    "        self.buckets = [[] for element in range(capacity)]\n",
    "        \n",
    "        \n",
    "    def hash_function(self, key):\n",
    "        return key % len(self.buckets)\n",
    "    \n",
    "    \n",
    "    def put(self, key, value):\n",
    "        index = self.DoubleHashing(key)\n",
    "        self.buckets[index].append({\"key\": key, \"value\": value})\n",
    "        self.size += 1\n",
    "    \n",
    "    \n",
    "    def DoubleHashing(self, key):\n",
    "        hashIndex = self.hash_function(key)\n",
    "        \n",
    "        if (self.buckets[hashIndex] == []):\n",
    "            return hashIndex\n",
    "        else:\n",
    "            i = 0\n",
    "            tmp = hashIndex\n",
    "            # h2 = 7 - (key) % 7\n",
    "            \n",
    "            while (self.buckets[hashIndex] != []):\n",
    "                i += 1\n",
    "                hashIndex = self.hash_function(tmp + i * (7 - (key%7)))\n",
    "            return hashIndex\n",
    "    \n",
    "    \n",
    "    def get(self, key):\n",
    "        hashIndex = self.hash_function(key)\n",
    "        for element in self.buckets[hashIndex]:\n",
    "            if (key == element[\"key\"]):\n",
    "                return element[\"value\"] \n",
    "\n",
    "            \n",
    "    def __getitem__(self, key):\n",
    "        return self.get(key)\n",
    "    \n",
    "    \n",
    "    def __setitem__(self, key, value):\n",
    "        return self.put(key, value)\n",
    "    \n",
    "    \n",
    "    def print_out(self):\n",
    "        print(\"index \\t value\")\n",
    "        for i in range(len(self.buckets)) :\n",
    "            if (self.buckets[i] == []):\n",
    "                print(i, \"\\t\", \"None\")\n",
    "            else:\n",
    "                print(i, \"\\t\", self.buckets[i][0][\"key\"], \":\", self.buckets[i][0][\"value\"])\n",
    "            \n",
    "    \n",
    "ht = HashTable()"
   ]
  },
  {
   "cell_type": "code",
   "execution_count": 68,
   "metadata": {},
   "outputs": [
    {
     "name": "stdout",
     "output_type": "stream",
     "text": [
      "index \t value\n",
      "0 \t None\n",
      "1 \t None\n",
      "2 \t None\n",
      "3 \t 58 : abc\n",
      "4 \t None\n",
      "5 \t None\n",
      "6 \t 91 : Vu\n",
      "7 \t None\n",
      "8 \t None\n",
      "9 \t 25 : Vince\n",
      "10 \t 14 : xyz\n"
     ]
    }
   ],
   "source": [
    "ht[58] = \"abc\"\n",
    "ht[14] = \"xyz\"\n",
    "ht[91] = \"Vu\"\n",
    "ht[25] = \"Vince\"\n",
    "ht.print_out()"
   ]
  },
  {
   "cell_type": "code",
   "execution_count": null,
   "metadata": {},
   "outputs": [],
   "source": []
  },
  {
   "cell_type": "code",
   "execution_count": null,
   "metadata": {},
   "outputs": [],
   "source": []
  },
  {
   "cell_type": "code",
   "execution_count": null,
   "metadata": {},
   "outputs": [],
   "source": []
  }
 ],
 "metadata": {
  "kernelspec": {
   "display_name": "Python 3",
   "language": "python",
   "name": "python3"
  },
  "language_info": {
   "codemirror_mode": {
    "name": "ipython",
    "version": 3
   },
   "file_extension": ".py",
   "mimetype": "text/x-python",
   "name": "python",
   "nbconvert_exporter": "python",
   "pygments_lexer": "ipython3",
   "version": "3.8.3"
  }
 },
 "nbformat": 4,
 "nbformat_minor": 4
}
